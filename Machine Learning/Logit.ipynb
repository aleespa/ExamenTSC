{
 "cells": [
  {
   "cell_type": "code",
   "execution_count": 199,
   "metadata": {},
   "outputs": [],
   "source": [
    "import pandas as pd\n",
    "import numpy as np\n",
    "from numpy.linalg import inv\n",
    "from sklearn import preprocessing\n",
    "import math as m\n",
    "from __future__ import division\n",
    "%matplotlib inline"
   ]
  },
  {
   "cell_type": "code",
   "execution_count": 204,
   "metadata": {},
   "outputs": [],
   "source": [
    "df = pd.read_csv('/home/aleespa/Hello-Machine-Learning/Machine Learning/train_examen.csv')\n",
    "df['i' ] = 1\n",
    "var = ['i','duration', 'credit_amount','installment_commitment','residence_since','age','existing_credits',\n",
    "      'num_dependents']\n",
    "le  = preprocessing.LabelEncoder()\n",
    "df['class'] = df[['class']].apply(le.fit_transform)\n",
    "X = df[var]\n",
    "y = df['class']"
   ]
  },
  {
   "cell_type": "code",
   "execution_count": 224,
   "metadata": {},
   "outputs": [],
   "source": [
    "n = len(var)\n",
    "d = len(X)\n",
    "beta = np.array([0 for i in range(n)])\n",
    "b =pd.DataFrame(beta).T\n",
    "norm = 1\n",
    "while norm>1e-10:\n",
    "    p = np.array([1/(1+m.exp(-np.matmul(X.loc[i],beta))) for i in range(d)])\n",
    "    Z = np.array([m.log(p[i]/(1-p[i]))+(y.loc[i]-p[i])/(p[i]*(1-p[i])) for i in range(d)])\n",
    "    W = np.diag(np.array([p[i]*(1-p[i]) for i in range(d)]))\n",
    "    beta2 = np.matmul(inv(np.matmul(np.matmul(np.transpose(X),W),X)),np.matmul(np.matmul(np.transpose(X),W),Z))\n",
    "    norm, beta = np.dot(beta2-beta,beta2-beta),beta2\n",
    "    b= pd.concat([b,pd.DataFrame(beta).T])"
   ]
  },
  {
   "cell_type": "code",
   "execution_count": 225,
   "metadata": {},
   "outputs": [
    {
     "data": {
      "image/png": "[encoded data removed]",
      "text/plain": [
       "<Figure size 432x288 with 1 Axes>"
      ]
     },
     "metadata": {},
     "output_type": "display_data"
    }
   ],
   "source": [
    "for i in range(n):\n",
    "    pd.DataFrame(b[i]).reset_index()[i].plot()"
   ]
  },
  {
   "cell_type": "code",
   "execution_count": 227,
   "metadata": {},
   "outputs": [
    {
     "data": {
      "text/plain": [
       "array([ 2.01114019e+00, -2.60741288e-02, -1.00069520e-04, -2.89268731e-01,\n",
       "       -8.87340122e-02,  2.69509451e-02,  5.68593562e-02, -1.66284126e-01])"
      ]
     },
     "execution_count": 227,
     "metadata": {},
     "output_type": "execute_result"
    }
   ],
   "source": [
    "beta"
   ]
  }
 ],
 "metadata": {
  "kernelspec": {
   "display_name": "Python 2",
   "language": "python",
   "name": "python2"
  },
  "language_info": {
   "codemirror_mode": {
    "name": "ipython",
    "version": 2
   },
   "file_extension": ".py",
   "mimetype": "text/x-python",
   "name": "python",
   "nbconvert_exporter": "python",
   "pygments_lexer": "ipython2",
   "version": "2.7.15rc1"
  }
 },
 "nbformat": 4,
 "nbformat_minor": 2
}
